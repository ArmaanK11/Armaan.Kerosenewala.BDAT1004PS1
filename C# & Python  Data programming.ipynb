{
 "cells": [
  {
   "cell_type": "markdown",
   "metadata": {},
   "source": [
    "#  Question 1\n",
    "\n",
    "What data type is each of the following?\n"
   ]
  },
  {
   "cell_type": "code",
   "execution_count": 1,
   "metadata": {},
   "outputs": [
    {
     "name": "stdout",
     "output_type": "stream",
     "text": [
      "System.Int32\r\n"
     ]
    }
   ],
   "source": [
    "var value = 5;\n",
    "    \n",
    "Console.WriteLine(value.GetType())"
   ]
  },
  {
   "cell_type": "code",
   "execution_count": 2,
   "metadata": {},
   "outputs": [
    {
     "name": "stdout",
     "output_type": "stream",
     "text": [
      "System.Double\r\n"
     ]
    }
   ],
   "source": [
    "var value =  5.0;\n",
    "    \n",
    "Console.WriteLine(value.GetType())"
   ]
  },
  {
   "cell_type": "code",
   "execution_count": 3,
   "metadata": {},
   "outputs": [
    {
     "name": "stdout",
     "output_type": "stream",
     "text": [
      "System.Boolean\r\n"
     ]
    }
   ],
   "source": [
    "var value =  5 > 1;\n",
    "    \n",
    "Console.WriteLine(value.GetType())"
   ]
  },
  {
   "cell_type": "code",
   "execution_count": 4,
   "metadata": {},
   "outputs": [
    {
     "name": "stdout",
     "output_type": "stream",
     "text": [
      "System.Char\r\n"
     ]
    }
   ],
   "source": [
    "var value =  '5';\n",
    "    \n",
    "Console.WriteLine(value.GetType())"
   ]
  },
  {
   "cell_type": "code",
   "execution_count": 5,
   "metadata": {},
   "outputs": [
    {
     "name": "stdout",
     "output_type": "stream",
     "text": [
      "System.Int32\r\n"
     ]
    }
   ],
   "source": [
    "var value =  5 * 2;\n",
    "    \n",
    "Console.WriteLine(value.GetType())"
   ]
  },
  {
   "cell_type": "code",
   "execution_count": 6,
   "metadata": {},
   "outputs": [
    {
     "name": "stdout",
     "output_type": "stream",
     "text": [
      "System.Int32\r\n"
     ]
    }
   ],
   "source": [
    "var value =  '5' * 2;\n",
    "    \n",
    "Console.WriteLine(value.GetType())"
   ]
  },
  {
   "cell_type": "code",
   "execution_count": 7,
   "metadata": {},
   "outputs": [
    {
     "name": "stdout",
     "output_type": "stream",
     "text": [
      "System.Int32\r\n"
     ]
    }
   ],
   "source": [
    "var value =  '5' + '2';\n",
    "    \n",
    "Console.WriteLine(value.GetType())"
   ]
  },
  {
   "cell_type": "code",
   "execution_count": 8,
   "metadata": {},
   "outputs": [
    {
     "name": "stdout",
     "output_type": "stream",
     "text": [
      "System.Int32\r\n"
     ]
    }
   ],
   "source": [
    "var value =  5 / 2;\n",
    "    \n",
    "Console.WriteLine(value.GetType())"
   ]
  },
  {
   "cell_type": "code",
   "execution_count": 9,
   "metadata": {},
   "outputs": [
    {
     "ename": "Unhandled Exception",
     "evalue": "(1,15): error CS1002: ; expected",
     "output_type": "error",
     "traceback": [
      "(1,15): error CS1002: ; expected"
     ]
    }
   ],
   "source": [
    "var value =  5 // 2;\n",
    "    \n",
    "Console.WriteLine(value.GetType())"
   ]
  },
  {
   "cell_type": "code",
   "execution_count": 10,
   "metadata": {},
   "outputs": [
    {
     "ename": "Unhandled Exception",
     "evalue": "(1,13): error CS1525: Invalid expression term '['",
     "output_type": "error",
     "traceback": [
      "(1,13): error CS1525: Invalid expression term '['"
     ]
    }
   ],
   "source": [
    "var value = [5, 2, 1];\n",
    "    \n",
    "Console.WriteLine(value.GetType())"
   ]
  },
  {
   "cell_type": "code",
   "execution_count": 11,
   "metadata": {},
   "outputs": [
    {
     "ename": "Unhandled Exception",
     "evalue": "(1,16): error CS1003: Syntax error, ',' expected\r\n(1,19): error CS1002: ; expected\r\n(1,20): error CS1001: Identifier expected\r\n(1,20): error CS1001: Identifier expected\r\n(1,23): error CS1001: Identifier expected\r\n(1,23): error CS1001: Identifier expected\r\n(1,26): error CS1001: Identifier expected\r\n(1,26): error CS1001: Identifier expected",
     "output_type": "error",
     "traceback": [
      "(1,16): error CS1003: Syntax error, ',' expected\r\n(1,19): error CS1002: ; expected\r\n(1,20): error CS1001: Identifier expected\r\n(1,20): error CS1001: Identifier expected\r\n(1,23): error CS1001: Identifier expected\r\n(1,23): error CS1001: Identifier expected\r\n(1,26): error CS1001: Identifier expected\r\n(1,26): error CS1001: Identifier expected"
     ]
    }
   ],
   "source": [
    "var value =  5 in [1, 4, 6];\n",
    "    \n",
    "Console.WriteLine(value.GetType())"
   ]
  },
  {
   "cell_type": "code",
   "execution_count": 12,
   "metadata": {},
   "outputs": [
    {
     "ename": "Unhandled Exception",
     "evalue": "(1,22): error CS1003: Syntax error, ',' expected",
     "output_type": "error",
     "traceback": [
      "(1,22): error CS1003: Syntax error, ',' expected"
     ]
    }
   ],
   "source": [
    "var value =  Pi (the number);\n",
    "    \n",
    "Console.WriteLine(value.GetType())"
   ]
  },
  {
   "cell_type": "markdown",
   "metadata": {},
   "source": [
    "# Question 2\n",
    "\n",
    "Write (and evaluate) C# expressions that answer these questions:\n",
    "a. How many letters are there in 'Supercalifragilisticexpialidocious'?\n",
    "b. Does 'Supercalifragilisticexpialidocious' contain 'ice' as a substring? \n",
    "c. Which of the following words is the longest:\n",
    "Supercalifragilisticexpialidocious, Honorificabilitudinitatibus, or\n",
    "Bababadalgharaghtakamminarronnkonn? "
   ]
  },
  {
   "cell_type": "code",
   "execution_count": 13,
   "metadata": {},
   "outputs": [
    {
     "name": "stdout",
     "output_type": "stream",
     "text": [
      "34\r\n"
     ]
    }
   ],
   "source": [
    "String str = \"Supercalifragilisticexpialidocious\";\n",
    "Console.WriteLine(str.Length)"
   ]
  },
  {
   "cell_type": "code",
   "execution_count": 14,
   "metadata": {},
   "outputs": [
    {
     "data": {
      "text/plain": [
       "True"
      ]
     },
     "execution_count": 14,
     "metadata": {},
     "output_type": "execute_result"
    }
   ],
   "source": [
    "String str = \"Supercalifragilisticexpialidocious\";\n",
    "str.Contains(\"ice\")"
   ]
  },
  {
   "cell_type": "code",
   "execution_count": 15,
   "metadata": {},
   "outputs": [
    {
     "name": "stdout",
     "output_type": "stream",
     "text": [
      "34\r\n"
     ]
    }
   ],
   "source": [
    "String str1 = \"Supercalifragilisticexpialidocious\";\n",
    "\n",
    "Console.WriteLine(str1.Length)"
   ]
  },
  {
   "cell_type": "code",
   "execution_count": 16,
   "metadata": {},
   "outputs": [
    {
     "name": "stdout",
     "output_type": "stream",
     "text": [
      "27\r\n"
     ]
    }
   ],
   "source": [
    "String str2 = \"Honorificabilitudinitatibus\";\n",
    "\n",
    "Console.WriteLine(str2.Length)"
   ]
  },
  {
   "cell_type": "code",
   "execution_count": 17,
   "metadata": {},
   "outputs": [
    {
     "name": "stdout",
     "output_type": "stream",
     "text": [
      "34\r\n"
     ]
    }
   ],
   "source": [
    "String str3 = \"Bababadalgharaghtakamminarronnkonn\";\n",
    "\n",
    "Console.WriteLine(str3.Length)"
   ]
  },
  {
   "cell_type": "markdown",
   "metadata": {},
   "source": [
    "# Question 3\n",
    "\n",
    "Implement function triangleArea(a,b,c) that takes as input the lengths of the 3\n",
    "sides of a triangle and returns the area of the triangle. By Heron's formula, the area\n",
    "of a triangle with side lengths a, b, and c is\n",
    "s(s - a)(s -b)(s -c)\n",
    ", where\n",
    "s = (a+b+c)/2.\n",
    ">>> triangleArea(2,2,2)\n",
    "1.7320508075688772\n"
   ]
  },
  {
   "cell_type": "code",
   "execution_count": 18,
   "metadata": {},
   "outputs": [
    {
     "name": "stdout",
     "output_type": "stream",
     "text": [
      "Area = 1.7320508075688772\r\n"
     ]
    }
   ],
   "source": [
    "     double area = triangleArea(2,2,2);\n",
    "            Console.WriteLine(\"Area = {0}\", area);\n",
    "            \n",
    "            public double triangleArea(double a, double b, double c)\n",
    "        {\n",
    "            double s = (a + b + c) / 2;  \n",
    "            double area = Math.Sqrt(s * ( s - a) * (s - b) * (s - c)); \n",
    "            return area;\n",
    "        }\n"
   ]
  },
  {
   "cell_type": "markdown",
   "metadata": {},
   "source": [
    "# Question 4\n",
    "\n",
    "Write a program in C# Sharp to separate odd and even integers in separate arrays.\n",
    "Go to the editor\n",
    "Test Data :\n",
    "Input the number of elements to be stored in the array :5\n",
    "Input 5 elements in the array :\n",
    "element - 0 : 25\n",
    "element - 1 : 47\n",
    "element - 2 : 42\n",
    "element - 3 : 56\n",
    "element - 4 : 32\n",
    "Expected Output:\n",
    "The Even elements are:\n",
    "42 56 32\n",
    "The Odd elements are :\n",
    "25 47"
   ]
  },
  {
   "cell_type": "code",
   "execution_count": null,
   "metadata": {},
   "outputs": [],
   "source": [
    "int[] input = new int[10];\n",
    "int[] odd = new int[10];\n",
    "int[] even = new int[10];\n",
    "int length;\n",
    "\n",
    "Console.Write(\"Input the number of elements in the array\");\n",
    "length = Convert.ToInt32(Console.ReadLine());\n",
    "\n",
    "Console.WriteLine($\"Input {length} elements in the array: \")\n",
    "for (int i=0; i<length; i++)\n",
    "{\n",
    "    Console.WriteLine($\"element - {i}: \")\n",
    "    a\n",
    "}"
   ]
  },
  {
   "cell_type": "markdown",
   "metadata": {},
   "source": [
    "# Question 5\n",
    "\n",
    "Write a function inside(x,y,x1,y1,x2,y2) that returns True or False\n",
    "depending on whether the point (x,y) lies in the rectangle with lower left\n",
    "corner (x1,y1) and upper right corner (x2,y2).\n",
    ">>> inside(1,1,0,0,2,3)\n",
    "True\n",
    ">>> inside(-1,-1,0,0,2,3)\n",
    "False\n"
   ]
  },
  {
   "cell_type": "code",
   "execution_count": 19,
   "metadata": {},
   "outputs": [
    {
     "name": "stdout",
     "output_type": "stream",
     "text": [
      "True\r\n"
     ]
    }
   ],
   "source": [
    "int x1 = 0,x2 = 2,y1 = 0,y2 = 3;\n",
    "int x = 1, y = 1;\n",
    "\n",
    "bool result = inside(x, y, x1, x2, y1, y2);\n",
    "Console.WriteLine(result);\n",
    "\n",
    "public bool inside(int x, int y, int x1, int x2, int y1, int y2)\n",
    "{\n",
    "    if (x > x1 && x < x2 && y > y1 && y < y2) \n",
    "        return true; \n",
    "  \n",
    "    return false;\n",
    "}\n"
   ]
  },
  {
   "cell_type": "markdown",
   "metadata": {},
   "source": [
    "# Question 6\n",
    "\n",
    "You can turn a word into pig-Latin using the following two rules (simplified):\n",
    "• If the word starts with a consonant, move that letter to the end and append\n",
    "'ay'. For example, 'happy' becomes 'appyhay' and 'pencil' becomes 'encilpay'.\n",
    "• If the word starts with a vowel, simply append 'way' to the end of the word.\n",
    "For example, 'enter' becomes 'enterway' and 'other' becomes 'otherway' . For\n",
    "our purposes, there are 5 vowels: a, e, i, o, u (so we count y as a consonant).\n",
    "Write a function pig() that takes a word (i.e., a string) as input and returns its pigLatin form. Your function should still work if the input word contains upper case\n",
    "characters. Your output should always be lower case however. "
   ]
  },
  {
   "cell_type": "code",
   "execution_count": 1,
   "metadata": {},
   "outputs": [
    {
     "name": "stdout",
     "output_type": "stream",
     "text": [
      "enterway\n"
     ]
    },
    {
     "data": {
      "text/plain": [
       "'appyhay'"
      ]
     },
     "execution_count": 1,
     "metadata": {},
     "output_type": "execute_result"
    }
   ],
   "source": [
    "def pig(str_text):\n",
    "    vowels=['a','e','i','o','u']\n",
    "    if str_text[0] in vowels:\n",
    "        a=str_text[0:]+\"way\"\n",
    "    else:\n",
    "        a=str_text[1:]+str_text[0]+\"ay\"\n",
    "    return a\n",
    "\n",
    "print(pig(\"enter\"))\n",
    "pig(\"happy\")"
   ]
  },
  {
   "cell_type": "markdown",
   "metadata": {},
   "source": [
    "# Question 7\n",
    "\n",
    "File bloodtype1.txt records blood-types of patients (A, B, AB, O or OO) at a clinic.\n",
    "Write a function bldcount() that reads the file with name name and reports (i.e.,\n",
    "prints) how many patients there are in each bloodtype\n"
   ]
  },
  {
   "cell_type": "code",
   "execution_count": 2,
   "metadata": {},
   "outputs": [
    {
     "name": "stdout",
     "output_type": "stream",
     "text": [
      "There are 15 patient of bloood type A\n",
      "There are 1 patient of bloood type B\n",
      "There are 13 patient of bloood type AB\n",
      "There are 15 patient of bloood type O\n",
      "There are 0 patient of bloood type OO\n"
     ]
    }
   ],
   "source": [
    "def bldcount(filepath):\n",
    "    with open(filepath) as file:\n",
    "        text = file.read()\n",
    "        arr=text.split(',')\n",
    "        elements= [x.strip() for x in arr]\n",
    "        print(f\"There are {elements.count('A') if elements.count('A') !=0 else 0} patient of bloood type A\")\n",
    "        print(f\"There are {elements.count('B') if elements.count('B') !=0 else 0} patient of bloood type B\")\n",
    "        print(f\"There are {elements.count('AB') if elements.count('AB') !=0 else 0} patient of bloood type AB\")\n",
    "        print(f\"There are {elements.count('O') if elements.count('O') !=0 else 0} patient of bloood type O\")\n",
    "        print(f\"There are {elements.count('OO') if elements.count('OO') !=0 else 0} patient of bloood type OO\")\n",
    "bldcount('D:temp2.txt')"
   ]
  },
  {
   "cell_type": "markdown",
   "metadata": {},
   "source": [
    "# Question 8\n",
    "\n",
    "Write a function curconv() that takes as input:\n",
    "1. a currency represented using a string (e.g., 'JPY' for the Japanese Yen or\n",
    "'EUR' for the Euro)\n",
    "2. an amount\n",
    "and then converts and returns the amount in US dollars.\n"
   ]
  },
  {
   "cell_type": "code",
   "execution_count": 3,
   "metadata": {},
   "outputs": [
    {
     "name": "stdout",
     "output_type": "stream",
     "text": [
      "['AUD\\t1.0345157\\tAustralian Dollar,', 'CHF\\t1.0237414\\tSwiss Franc,', 'CNY\\t0.1550176\\tChinese Yuan,', 'DKK\\t0.1651442\\tDanish Krone,', 'EUR\\t1.2296544\\tEuro,', 'GBP\\t1.5550989\\tBritish Pound,', 'HKD\\t0.1270207\\tHong Kong Dollar,', 'INR\\t0.0177643\\tIndian Rupee,', 'JPY\\t0.01241401\\tJapanese Yen,', 'MXN\\t0.0751848\\tMexican Peso,', 'MYR\\t0.3145411\\tMalaysian Ringgit,', 'NOK\\t0.1677063\\tNorwegian Krone,', 'NZD\\t0.8003591\\tNew Zealand Dollar,', 'PHP\\t0.0233234\\tPhilippine Peso,', 'SEK\\t0.148269\\tSwedish Krona,', 'SGD\\t0.788871\\tSingapore Dollar,', 'THB\\t0.0313789\\tThai Baht']\n"
     ]
    }
   ],
   "source": [
    "def curconv(curr, amnt):\n",
    "    with open(r'D:temp2 (2).txt') as file:\n",
    "        text = file.read()\n",
    "        lines=text.splitlines()\n",
    "        print(lines)\n",
    "        for i,line in  enumerate(lines):\n",
    "            if curr==str(line).split(' ')[0]:\n",
    "                print(lines[i])\n",
    "                return float(str(line).split(' ')[1])*amnt\n",
    " #           print(lines[i])\n",
    "            \n",
    "curconv('AUD', 50)"
   ]
  },
  {
   "cell_type": "markdown",
   "metadata": {},
   "source": [
    "# Question 9 \n",
    "\n",
    "Each of the following will cause an exception (an error). Identify what type of\n",
    "exception each will cause."
   ]
  },
  {
   "cell_type": "code",
   "execution_count": 5,
   "metadata": {},
   "outputs": [
    {
     "ename": "IndentationError",
     "evalue": "unindent does not match any outer indentation level (<tokenize>, line 19)",
     "output_type": "error",
     "traceback": [
      "\u001b[1;36m  File \u001b[1;32m\"<tokenize>\"\u001b[1;36m, line \u001b[1;32m19\u001b[0m\n\u001b[1;33m    Error:  No such file or directory: 'D:awe.txt'\u001b[0m\n\u001b[1;37m    ^\u001b[0m\n\u001b[1;31mIndentationError\u001b[0m\u001b[1;31m:\u001b[0m unindent does not match any outer indentation level\n"
     ]
    }
   ],
   "source": [
    "print(6+'a')\n",
    "Error : unsupported operand type(s) for +: 'int' and 'str'\n",
    "    \n",
    "a=[1,2,3,4,5,6,7,8,9,10]\n",
    "print(a[11])\n",
    "\n",
    "Error: list index out of range\n",
    "\n",
    "import math\n",
    "print(math.sqrt(-1.0))\n",
    "Error: math domain error\n",
    "\n",
    "print(x)\n",
    "Error: name 'x' is not defined\n",
    "    \n",
    "with open(r'D:awe.txt') as a:\n",
    "    print(a)\n",
    "    \n",
    " Error:  No such file or directory: 'D:awe.txt'"
   ]
  },
  {
   "cell_type": "markdown",
   "metadata": {},
   "source": [
    "# Question 10 \n",
    "\n",
    "Assume that the string letters is already defined as\n",
    "'abcdefghijklmnopqrstuvwxyz'. Write a function called frequencies()\n",
    "that takes a string as its only parameter, and returns a list of integers, showing the\n",
    "number of times each character appears in the text. Your function may ignore any\n",
    "characters that are not in letters. "
   ]
  },
  {
   "cell_type": "code",
   "execution_count": 6,
   "metadata": {},
   "outputs": [
    {
     "name": "stdout",
     "output_type": "stream",
     "text": [
      "[1, 0, 0, 0, 1, 0, 0, 0, 0, 0, 0, 1, 0, 0, 0, 2, 0, 0, 0, 0, 0, 0, 0, 0, 0, 0]\n"
     ]
    }
   ],
   "source": [
    "def frequencies(msg):\n",
    "    alphabets=\"abcdefghijklmnopqrstuvwxyz\"\n",
    "    counts_list=[]\n",
    "#    alp_list=alphabets.split(\"\")\n",
    "#    print(alp_list)\n",
    "    for i in alphabets:\n",
    "        counts_list.append(msg.count(i))\n",
    "    return counts_list\n",
    "\n",
    "print(frequencies(\"apple\"))"
   ]
  },
  {
   "cell_type": "markdown",
   "metadata": {},
   "source": []
  }
 ],
 "metadata": {
  "kernelspec": {
   "display_name": "Python 3",
   "language": "python",
   "name": "python3"
  },
  "language_info": {
   "codemirror_mode": {
    "name": "ipython",
    "version": 3
   },
   "file_extension": ".py",
   "mimetype": "text/x-python",
   "name": "python",
   "nbconvert_exporter": "python",
   "pygments_lexer": "ipython3",
   "version": "3.8.5"
  }
 },
 "nbformat": 4,
 "nbformat_minor": 4
}
